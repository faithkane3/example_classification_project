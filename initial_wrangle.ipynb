{
 "cells": [
  {
   "cell_type": "code",
   "execution_count": 1,
   "metadata": {},
   "outputs": [],
   "source": [
    "import pandas as pd\n",
    "import numpy as np\n",
    "import os\n",
    "\n",
    "import matplotlib.pyplot as plt\n",
    "import seaborn as sns\n",
    "\n",
    "from sklearn.model_selection import train_test_split\n",
    "\n",
    "from env import host, user, password\n",
    "from acquire import get_iris_data\n",
    "import prepare\n",
    "import explore"
   ]
  },
  {
   "cell_type": "markdown",
   "metadata": {},
   "source": [
    "## Acquire Data\n",
    "\n",
    "- Building out functions I will use to acquire my data and store in my acquire.py for use in my final_report notebook."
   ]
  },
  {
   "cell_type": "code",
   "execution_count": 2,
   "metadata": {},
   "outputs": [],
   "source": [
    "def get_connection(db, user=user, host=host, password=password):\n",
    "    '''\n",
    "    This function uses my info from my env file to\n",
    "    create a connection url to access the Codeup db.\n",
    "    It takes in a string name of a database as an argument.\n",
    "    '''\n",
    "    return f'mysql+pymysql://{user}:{password}@{host}/{db}'"
   ]
  },
  {
   "cell_type": "code",
   "execution_count": 3,
   "metadata": {},
   "outputs": [],
   "source": [
    "def new_iris_data():\n",
    "    '''\n",
    "    This function reads the iris data from the Codeup db into a df.\n",
    "    '''\n",
    "    sql_query = \"\"\"\n",
    "                SELECT \n",
    "                    s.species_id,\n",
    "                    s.species_name,\n",
    "                    m.sepal_length,\n",
    "                    m.sepal_width,\n",
    "                    m.petal_length,\n",
    "                    m.petal_width\n",
    "                FROM measurements AS m\n",
    "                JOIN species AS s USING(species_id)\n",
    "                \"\"\"\n",
    "    \n",
    "    # Read in DataFrame from Codeup db.\n",
    "    df = pd.read_sql(sql_query, get_connection('iris_db'))\n",
    "    \n",
    "    return df"
   ]
  },
  {
   "cell_type": "code",
   "execution_count": 4,
   "metadata": {},
   "outputs": [],
   "source": [
    "def get_iris_data():\n",
    "    '''\n",
    "    This function reads in iris data from Codeup database, writes data to\n",
    "    a csv file if a local file does not exist, and returns a df.\n",
    "    '''\n",
    "    if os.path.isfile('iris_df.csv'):\n",
    "        \n",
    "        # If csv file exists read in data from csv file.\n",
    "        df = pd.read_csv('iris_df.csv', index_col=0)\n",
    "        \n",
    "    else:\n",
    "        \n",
    "        # Read fresh data from db into a DataFrame\n",
    "        df = new_iris_data()\n",
    "        \n",
    "        # Cache data\n",
    "        df.to_csv('iris_df.csv')\n",
    "        \n",
    "    return df"
   ]
  },
  {
   "cell_type": "code",
   "execution_count": 5,
   "metadata": {},
   "outputs": [],
   "source": [
    "df = get_iris_data()"
   ]
  },
  {
   "cell_type": "code",
   "execution_count": 6,
   "metadata": {},
   "outputs": [
    {
     "data": {
      "text/plain": [
       "(150, 6)"
      ]
     },
     "execution_count": 6,
     "metadata": {},
     "output_type": "execute_result"
    }
   ],
   "source": [
    "df.shape"
   ]
  },
  {
   "cell_type": "code",
   "execution_count": 7,
   "metadata": {},
   "outputs": [
    {
     "data": {
      "text/html": [
       "<div>\n",
       "<style scoped>\n",
       "    .dataframe tbody tr th:only-of-type {\n",
       "        vertical-align: middle;\n",
       "    }\n",
       "\n",
       "    .dataframe tbody tr th {\n",
       "        vertical-align: top;\n",
       "    }\n",
       "\n",
       "    .dataframe thead th {\n",
       "        text-align: right;\n",
       "    }\n",
       "</style>\n",
       "<table border=\"1\" class=\"dataframe\">\n",
       "  <thead>\n",
       "    <tr style=\"text-align: right;\">\n",
       "      <th></th>\n",
       "      <th>species_id</th>\n",
       "      <th>species_name</th>\n",
       "      <th>sepal_length</th>\n",
       "      <th>sepal_width</th>\n",
       "      <th>petal_length</th>\n",
       "      <th>petal_width</th>\n",
       "    </tr>\n",
       "  </thead>\n",
       "  <tbody>\n",
       "    <tr>\n",
       "      <th>0</th>\n",
       "      <td>1</td>\n",
       "      <td>setosa</td>\n",
       "      <td>5.1</td>\n",
       "      <td>3.5</td>\n",
       "      <td>1.4</td>\n",
       "      <td>0.2</td>\n",
       "    </tr>\n",
       "    <tr>\n",
       "      <th>1</th>\n",
       "      <td>1</td>\n",
       "      <td>setosa</td>\n",
       "      <td>4.9</td>\n",
       "      <td>3.0</td>\n",
       "      <td>1.4</td>\n",
       "      <td>0.2</td>\n",
       "    </tr>\n",
       "    <tr>\n",
       "      <th>2</th>\n",
       "      <td>1</td>\n",
       "      <td>setosa</td>\n",
       "      <td>4.7</td>\n",
       "      <td>3.2</td>\n",
       "      <td>1.3</td>\n",
       "      <td>0.2</td>\n",
       "    </tr>\n",
       "    <tr>\n",
       "      <th>3</th>\n",
       "      <td>1</td>\n",
       "      <td>setosa</td>\n",
       "      <td>4.6</td>\n",
       "      <td>3.1</td>\n",
       "      <td>1.5</td>\n",
       "      <td>0.2</td>\n",
       "    </tr>\n",
       "    <tr>\n",
       "      <th>4</th>\n",
       "      <td>1</td>\n",
       "      <td>setosa</td>\n",
       "      <td>5.0</td>\n",
       "      <td>3.6</td>\n",
       "      <td>1.4</td>\n",
       "      <td>0.2</td>\n",
       "    </tr>\n",
       "  </tbody>\n",
       "</table>\n",
       "</div>"
      ],
      "text/plain": [
       "   species_id species_name  sepal_length  sepal_width  petal_length  \\\n",
       "0           1       setosa           5.1          3.5           1.4   \n",
       "1           1       setosa           4.9          3.0           1.4   \n",
       "2           1       setosa           4.7          3.2           1.3   \n",
       "3           1       setosa           4.6          3.1           1.5   \n",
       "4           1       setosa           5.0          3.6           1.4   \n",
       "\n",
       "   petal_width  \n",
       "0          0.2  \n",
       "1          0.2  \n",
       "2          0.2  \n",
       "3          0.2  \n",
       "4          0.2  "
      ]
     },
     "execution_count": 7,
     "metadata": {},
     "output_type": "execute_result"
    }
   ],
   "source": [
    "df.head()"
   ]
  },
  {
   "cell_type": "code",
   "execution_count": 8,
   "metadata": {},
   "outputs": [
    {
     "name": "stdout",
     "output_type": "stream",
     "text": [
      "<class 'pandas.core.frame.DataFrame'>\n",
      "Int64Index: 150 entries, 0 to 149\n",
      "Data columns (total 6 columns):\n",
      " #   Column        Non-Null Count  Dtype  \n",
      "---  ------        --------------  -----  \n",
      " 0   species_id    150 non-null    int64  \n",
      " 1   species_name  150 non-null    object \n",
      " 2   sepal_length  150 non-null    float64\n",
      " 3   sepal_width   150 non-null    float64\n",
      " 4   petal_length  150 non-null    float64\n",
      " 5   petal_width   150 non-null    float64\n",
      "dtypes: float64(4), int64(1), object(1)\n",
      "memory usage: 8.2+ KB\n"
     ]
    }
   ],
   "source": [
    "df.info()"
   ]
  },
  {
   "cell_type": "code",
   "execution_count": 9,
   "metadata": {},
   "outputs": [],
   "source": [
    "def object_vals(df):\n",
    "    for col in df.columns:\n",
    "        if df[col].dtype == 'object':\n",
    "            print(df[col].value_counts(dropna=False))"
   ]
  },
  {
   "cell_type": "code",
   "execution_count": 10,
   "metadata": {},
   "outputs": [
    {
     "data": {
      "text/html": [
       "<div>\n",
       "<style scoped>\n",
       "    .dataframe tbody tr th:only-of-type {\n",
       "        vertical-align: middle;\n",
       "    }\n",
       "\n",
       "    .dataframe tbody tr th {\n",
       "        vertical-align: top;\n",
       "    }\n",
       "\n",
       "    .dataframe thead th {\n",
       "        text-align: right;\n",
       "    }\n",
       "</style>\n",
       "<table border=\"1\" class=\"dataframe\">\n",
       "  <thead>\n",
       "    <tr style=\"text-align: right;\">\n",
       "      <th></th>\n",
       "      <th>count</th>\n",
       "      <th>mean</th>\n",
       "      <th>std</th>\n",
       "      <th>min</th>\n",
       "      <th>25%</th>\n",
       "      <th>50%</th>\n",
       "      <th>75%</th>\n",
       "      <th>max</th>\n",
       "    </tr>\n",
       "  </thead>\n",
       "  <tbody>\n",
       "    <tr>\n",
       "      <th>species_id</th>\n",
       "      <td>150.0</td>\n",
       "      <td>2.000000</td>\n",
       "      <td>0.819232</td>\n",
       "      <td>1.0</td>\n",
       "      <td>1.0</td>\n",
       "      <td>2.00</td>\n",
       "      <td>3.0</td>\n",
       "      <td>3.0</td>\n",
       "    </tr>\n",
       "    <tr>\n",
       "      <th>sepal_length</th>\n",
       "      <td>150.0</td>\n",
       "      <td>5.843333</td>\n",
       "      <td>0.828066</td>\n",
       "      <td>4.3</td>\n",
       "      <td>5.1</td>\n",
       "      <td>5.80</td>\n",
       "      <td>6.4</td>\n",
       "      <td>7.9</td>\n",
       "    </tr>\n",
       "    <tr>\n",
       "      <th>sepal_width</th>\n",
       "      <td>150.0</td>\n",
       "      <td>3.057333</td>\n",
       "      <td>0.435866</td>\n",
       "      <td>2.0</td>\n",
       "      <td>2.8</td>\n",
       "      <td>3.00</td>\n",
       "      <td>3.3</td>\n",
       "      <td>4.4</td>\n",
       "    </tr>\n",
       "    <tr>\n",
       "      <th>petal_length</th>\n",
       "      <td>150.0</td>\n",
       "      <td>3.758000</td>\n",
       "      <td>1.765298</td>\n",
       "      <td>1.0</td>\n",
       "      <td>1.6</td>\n",
       "      <td>4.35</td>\n",
       "      <td>5.1</td>\n",
       "      <td>6.9</td>\n",
       "    </tr>\n",
       "    <tr>\n",
       "      <th>petal_width</th>\n",
       "      <td>150.0</td>\n",
       "      <td>1.199333</td>\n",
       "      <td>0.762238</td>\n",
       "      <td>0.1</td>\n",
       "      <td>0.3</td>\n",
       "      <td>1.30</td>\n",
       "      <td>1.8</td>\n",
       "      <td>2.5</td>\n",
       "    </tr>\n",
       "  </tbody>\n",
       "</table>\n",
       "</div>"
      ],
      "text/plain": [
       "              count      mean       std  min  25%   50%  75%  max\n",
       "species_id    150.0  2.000000  0.819232  1.0  1.0  2.00  3.0  3.0\n",
       "sepal_length  150.0  5.843333  0.828066  4.3  5.1  5.80  6.4  7.9\n",
       "sepal_width   150.0  3.057333  0.435866  2.0  2.8  3.00  3.3  4.4\n",
       "petal_length  150.0  3.758000  1.765298  1.0  1.6  4.35  5.1  6.9\n",
       "petal_width   150.0  1.199333  0.762238  0.1  0.3  1.30  1.8  2.5"
      ]
     },
     "execution_count": 10,
     "metadata": {},
     "output_type": "execute_result"
    }
   ],
   "source": [
    "df.describe().T"
   ]
  },
  {
   "cell_type": "code",
   "execution_count": 11,
   "metadata": {},
   "outputs": [],
   "source": [
    "def col_range(df):\n",
    "    stats_df = df.describe().T\n",
    "    stats_df['range'] = stats_df['max'] - stats_df['min']\n",
    "    return stats_df"
   ]
  },
  {
   "cell_type": "code",
   "execution_count": 12,
   "metadata": {},
   "outputs": [],
   "source": [
    "# Create a function to summarize my df\n",
    "\n",
    "def summarize_df(df):\n",
    "    print(f'This dataframe has {df.shape[0]} rows and {df.shape[1]} columns.')\n",
    "    print('------------------------')\n",
    "    print(df.info())\n",
    "    print('------------------------')\n",
    "    print(df.head())\n",
    "    print('------------------------')\n",
    "    object_vals(df)\n",
    "    print('------------------------')\n",
    "    print(col_range(df))"
   ]
  },
  {
   "cell_type": "code",
   "execution_count": 13,
   "metadata": {},
   "outputs": [
    {
     "name": "stdout",
     "output_type": "stream",
     "text": [
      "This dataframe has 150 rows and 6 columns.\n",
      "------------------------\n",
      "<class 'pandas.core.frame.DataFrame'>\n",
      "Int64Index: 150 entries, 0 to 149\n",
      "Data columns (total 6 columns):\n",
      " #   Column        Non-Null Count  Dtype  \n",
      "---  ------        --------------  -----  \n",
      " 0   species_id    150 non-null    int64  \n",
      " 1   species_name  150 non-null    object \n",
      " 2   sepal_length  150 non-null    float64\n",
      " 3   sepal_width   150 non-null    float64\n",
      " 4   petal_length  150 non-null    float64\n",
      " 5   petal_width   150 non-null    float64\n",
      "dtypes: float64(4), int64(1), object(1)\n",
      "memory usage: 8.2+ KB\n",
      "None\n",
      "------------------------\n",
      "   species_id species_name  sepal_length  sepal_width  petal_length  \\\n",
      "0           1       setosa           5.1          3.5           1.4   \n",
      "1           1       setosa           4.9          3.0           1.4   \n",
      "2           1       setosa           4.7          3.2           1.3   \n",
      "3           1       setosa           4.6          3.1           1.5   \n",
      "4           1       setosa           5.0          3.6           1.4   \n",
      "\n",
      "   petal_width  \n",
      "0          0.2  \n",
      "1          0.2  \n",
      "2          0.2  \n",
      "3          0.2  \n",
      "4          0.2  \n",
      "------------------------\n",
      "versicolor    50\n",
      "setosa        50\n",
      "virginica     50\n",
      "Name: species_name, dtype: int64\n",
      "------------------------\n",
      "              count      mean       std  min  25%   50%  75%  max  range\n",
      "species_id    150.0  2.000000  0.819232  1.0  1.0  2.00  3.0  3.0    2.0\n",
      "sepal_length  150.0  5.843333  0.828066  4.3  5.1  5.80  6.4  7.9    3.6\n",
      "sepal_width   150.0  3.057333  0.435866  2.0  2.8  3.00  3.3  4.4    2.4\n",
      "petal_length  150.0  3.758000  1.765298  1.0  1.6  4.35  5.1  6.9    5.9\n",
      "petal_width   150.0  1.199333  0.762238  0.1  0.3  1.30  1.8  2.5    2.4\n"
     ]
    }
   ],
   "source": [
    "summarize_df(df)"
   ]
  },
  {
   "cell_type": "markdown",
   "metadata": {},
   "source": [
    "## Prepare Data"
   ]
  },
  {
   "cell_type": "code",
   "execution_count": 14,
   "metadata": {},
   "outputs": [
    {
     "data": {
      "text/plain": [
       "species_id      0\n",
       "species_name    0\n",
       "sepal_length    0\n",
       "sepal_width     0\n",
       "petal_length    0\n",
       "petal_width     0\n",
       "dtype: int64"
      ]
     },
     "execution_count": 14,
     "metadata": {},
     "output_type": "execute_result"
    }
   ],
   "source": [
    "# Check for Null Values; squeaky clean dataset.\n",
    "df.isnull().sum()"
   ]
  },
  {
   "cell_type": "code",
   "execution_count": 15,
   "metadata": {},
   "outputs": [],
   "source": [
    "def num_distributions(df):\n",
    "    for col in df.columns:\n",
    "        if df[col].dtype != 'object':\n",
    "            plt.hist(df[col])\n",
    "            plt.title(f'Distribution of {col}')\n",
    "            plt.show()"
   ]
  },
  {
   "cell_type": "code",
   "execution_count": 16,
   "metadata": {},
   "outputs": [
    {
     "data": {
      "image/png": "[encoded data removed]",
      "text/plain": [
       "<Figure size 432x288 with 1 Axes>"
      ]
     },
     "metadata": {
      "needs_background": "light"
     },
     "output_type": "display_data"
    },
    {
     "data": {
      "image/png": "[encoded data removed]",
      "text/plain": [
       "<Figure size 432x288 with 1 Axes>"
      ]
     },
     "metadata": {
      "needs_background": "light"
     },
     "output_type": "display_data"
    },
    {
     "data": {
      "image/png": "[encoded data removed]",
      "text/plain": [
       "<Figure size 432x288 with 1 Axes>"
      ]
     },
     "metadata": {
      "needs_background": "light"
     },
     "output_type": "display_data"
    },
    {
     "data": {
      "image/png": "[encoded data removed]",
      "text/plain": [
       "<Figure size 432x288 with 1 Axes>"
      ]
     },
     "metadata": {
      "needs_background": "light"
     },
     "output_type": "display_data"
    },
    {
     "data": {
      "image/png": "[encoded data removed]",
      "text/plain": [
       "<Figure size 432x288 with 1 Axes>"
      ]
     },
     "metadata": {
      "needs_background": "light"
     },
     "output_type": "display_data"
    }
   ],
   "source": [
    "num_distributions(df)"
   ]
  },
  {
   "cell_type": "code",
   "execution_count": 17,
   "metadata": {},
   "outputs": [],
   "source": [
    "def iris_split(df):\n",
    "    '''\n",
    "    This function takes in the iris data acquired by get_iris_data,\n",
    "    performs a split and stratifies species column.\n",
    "    Returns train, validate, and test dfs.\n",
    "    '''\n",
    "    train_validate, test = train_test_split(df, test_size=.2, \n",
    "                                        random_state=123, \n",
    "                                        stratify=df.species)\n",
    "    train, validate = train_test_split(train_validate, test_size=.3, \n",
    "                                   random_state=123, \n",
    "                                   stratify=train_validate.species)\n",
    "    return train, validate, test"
   ]
  },
  {
   "cell_type": "code",
   "execution_count": 18,
   "metadata": {},
   "outputs": [],
   "source": [
    "def prep_iris(df):\n",
    "    '''\n",
    "    This function takes in the iris df acquired by get_iris_data,\n",
    "    Drops the species_id column and renames species_name to species, \n",
    "    Performs a 3-way split stratified on species, and\n",
    "    Returns train, validate, and test dataframes.\n",
    "    '''\n",
    "    # drop and rename columns\n",
    "    df = df.drop(columns='species_id').rename(columns={'species_name': 'species'})\n",
    "    \n",
    "    # split dataframe into train, validate, and test\n",
    "    train, validate, test = iris_split(df)\n",
    "    \n",
    "    return train, validate, test"
   ]
  },
  {
   "cell_type": "code",
   "execution_count": 19,
   "metadata": {},
   "outputs": [],
   "source": [
    "train, validate, test = prep_iris(df)"
   ]
  },
  {
   "cell_type": "code",
   "execution_count": 20,
   "metadata": {},
   "outputs": [
    {
     "name": "stdout",
     "output_type": "stream",
     "text": [
      "train -> (84, 5)\n",
      "validate -> (36, 5)\n",
      "test -> (30, 5)\n"
     ]
    }
   ],
   "source": [
    "print(f'train -> {train.shape}')\n",
    "print(f'validate -> {validate.shape}')\n",
    "print(f'test -> {test.shape}')"
   ]
  },
  {
   "cell_type": "markdown",
   "metadata": {},
   "source": [
    "## Explore"
   ]
  },
  {
   "cell_type": "code",
   "execution_count": 27,
   "metadata": {},
   "outputs": [],
   "source": [
    "plt.rc('font', size=14)\n",
    "plt.rc('figure', figsize=(14, 10))"
   ]
  },
  {
   "cell_type": "code",
   "execution_count": 28,
   "metadata": {},
   "outputs": [],
   "source": [
    "# Create melted df for viz\n",
    "melted = train.melt(id_vars=['species'])"
   ]
  },
  {
   "cell_type": "code",
   "execution_count": 29,
   "metadata": {},
   "outputs": [
    {
     "name": "stdout",
     "output_type": "stream",
     "text": [
      "<class 'pandas.core.frame.DataFrame'>\n",
      "RangeIndex: 336 entries, 0 to 335\n",
      "Data columns (total 3 columns):\n",
      " #   Column    Non-Null Count  Dtype  \n",
      "---  ------    --------------  -----  \n",
      " 0   species   336 non-null    object \n",
      " 1   variable  336 non-null    object \n",
      " 2   value     336 non-null    float64\n",
      "dtypes: float64(1), object(2)\n",
      "memory usage: 8.0+ KB\n"
     ]
    }
   ],
   "source": [
    "# Check out melted df info.\n",
    "melted.info()"
   ]
  },
  {
   "cell_type": "code",
   "execution_count": 32,
   "metadata": {},
   "outputs": [
    {
     "data": {
      "image/png": "[encoded data removed]",
      "text/plain": [
       "<Figure size 1008x720 with 1 Axes>"
      ]
     },
     "metadata": {
      "needs_background": "light"
     },
     "output_type": "display_data"
    }
   ],
   "source": [
    "# Create a stripplot to examine the distribution of species throughout each continuous variable.\n",
    "sns.stripplot(data=melted, x='variable', y='value', hue='species')\n",
    "\n",
    "plt.title('petal_length and petal_width show clear distinctions in measurements by species')\n",
    "\n",
    "plt.show()"
   ]
  },
  {
   "cell_type": "markdown",
   "metadata": {},
   "source": [
    "#### Stripplot Takeaways\n",
    "\n",
    "- Looking at the distribution of the species throughout each continuous variable, the clear distinctions between petal length and width by species lead me to believe these might be valuable features in predicting species."
   ]
  },
  {
   "cell_type": "code",
   "execution_count": 13,
   "metadata": {},
   "outputs": [],
   "source": [
    "# Feature engineering with continuous variables; can I create useful features?\n",
    "\n",
    "train['sepal_area'] = train.sepal_length * train.sepal_width\n",
    "train['petal_area'] = train['petal_length'] * train['petal_width']"
   ]
  },
  {
   "cell_type": "code",
   "execution_count": 12,
   "metadata": {},
   "outputs": [
    {
     "data": {
      "image/png": "[encoded data removed]",
      "text/plain": [
       "<Figure size 1008x720 with 2 Axes>"
      ]
     },
     "metadata": {
      "needs_background": "light"
     },
     "output_type": "display_data"
    }
   ],
   "source": [
    "sns.heatmap(train.corr(), cmap='mako', center=0, annot=True)\n",
    "\n",
    "plt.title('')\n",
    "plt.show()"
   ]
  },
  {
   "cell_type": "markdown",
   "metadata": {},
   "source": [
    "##### Heatmap Takeaways\n",
    "\n",
    "- most measures correlate with each other, the least is sepal_width with sepal_lenght @ -.15.\n",
    "- Negative correlations: Wider sepals -> shorter & narrower petals (smaller petal areas)\n",
    "- Positive correlations: Longer sepals -> longer & wider petals (larger petal areas)\n",
    "- Little to no LINEAR correlation: sepal length & sepal width."
   ]
  },
  {
   "cell_type": "code",
   "execution_count": 33,
   "metadata": {},
   "outputs": [],
   "source": [
    "#\n"
   ]
  },
  {
   "cell_type": "code",
   "execution_count": null,
   "metadata": {},
   "outputs": [],
   "source": []
  }
 ],
 "metadata": {
  "kernelspec": {
   "display_name": "Python 3",
   "language": "python",
   "name": "python3"
  },
  "language_info": {
   "codemirror_mode": {
    "name": "ipython",
    "version": 3
   },
   "file_extension": ".py",
   "mimetype": "text/x-python",
   "name": "python",
   "nbconvert_exporter": "python",
   "pygments_lexer": "ipython3",
   "version": "3.7.4"
  }
 },
 "nbformat": 4,
 "nbformat_minor": 4
}
